{
  "nbformat": 4,
  "nbformat_minor": 0,
  "metadata": {
    "colab": {
      "provenance": [],
      "authorship_tag": "ABX9TyNiBr/oiv1e+xnWF0+jGxad",
      "include_colab_link": true
    },
    "kernelspec": {
      "name": "python3",
      "display_name": "Python 3"
    },
    "language_info": {
      "name": "python"
    }
  },
  "cells": [
    {
      "cell_type": "markdown",
      "metadata": {
        "id": "view-in-github",
        "colab_type": "text"
      },
      "source": [
        "<a href=\"https://colab.research.google.com/github/TalitaBorg/Logica-de-Programacao/blob/main/Exemplo_2_ELIF.ipynb\" target=\"_parent\"><img src=\"https://colab.research.google.com/assets/colab-badge.svg\" alt=\"Open In Colab\"/></a>"
      ]
    },
    {
      "cell_type": "code",
      "execution_count": 2,
      "metadata": {
        "colab": {
          "base_uri": "https://localhost:8080/"
        },
        "id": "RWxArvjryU3z",
        "outputId": "15cab51d-1c55-4cff-b827-fca77ed405dc"
      },
      "outputs": [
        {
          "output_type": "stream",
          "name": "stdout",
          "text": [
            "Digite um número de 1 a 510\n",
            "Você digitou um valor fora do intervalo de 1 a 5!\n",
            "O preço é: 0\n"
          ]
        }
      ],
      "source": [
        "categoria = int(input(\"Digite um número de 1 a 5\"))\n",
        "if(categoria == 1):\n",
        "  preço = 10\n",
        "\n",
        "elif(categoria ==2):\n",
        "  preço = 18\n",
        "\n",
        "elif(categoria ==3):\n",
        "  preço = 23\n",
        "\n",
        "elif(categoria ==4):\n",
        "  preço = 26\n",
        "\n",
        "elif(categoria ==5):\n",
        "  preço = 31\n",
        "\n",
        "else:\n",
        "  print(\"Você digitou um valor fora do intervalo de 1 a 5!\")\n",
        "  preço = 0\n",
        "\n",
        "print(f\"O preço é: {(preço)}\")"
      ]
    }
  ]
}