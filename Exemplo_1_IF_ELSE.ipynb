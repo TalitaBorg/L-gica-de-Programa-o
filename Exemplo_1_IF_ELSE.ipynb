{
  "nbformat": 4,
  "nbformat_minor": 0,
  "metadata": {
    "colab": {
      "provenance": [],
      "authorship_tag": "ABX9TyPDlNMFPIyQH+YmV3PD1DgD",
      "include_colab_link": true
    },
    "kernelspec": {
      "name": "python3",
      "display_name": "Python 3"
    },
    "language_info": {
      "name": "python"
    }
  },
  "cells": [
    {
      "cell_type": "markdown",
      "metadata": {
        "id": "view-in-github",
        "colab_type": "text"
      },
      "source": [
        "<a href=\"https://colab.research.google.com/github/TalitaBorg/Logica-de-Programacao/blob/main/Exemplo_1_IF_ELSE.ipynb\" target=\"_parent\"><img src=\"https://colab.research.google.com/assets/colab-badge.svg\" alt=\"Open In Colab\"/></a>"
      ]
    },
    {
      "cell_type": "code",
      "execution_count": 14,
      "metadata": {
        "colab": {
          "base_uri": "https://localhost:8080/"
        },
        "id": "2adYWRUImov_",
        "outputId": "419192df-ba73-4874-fd72-f31be7ff2a28"
      },
      "outputs": [
        {
          "output_type": "stream",
          "name": "stdout",
          "text": [
            "Digite um número de 1 a 5: 2\n",
            "O preço do produto equivale a 18\n"
          ]
        }
      ],
      "source": [
        "categoria = int(input(\"Digite um número de 1 a 5: \"))\n",
        "if(categoria == 1):\n",
        "  preço = 10\n",
        "else:\n",
        "  if(categoria == 2):\n",
        "      preço = 18\n",
        "  else:\n",
        "    if(categoria ==3):\n",
        "      preço = 23\n",
        "    else:\n",
        "      if(categoria ==4):\n",
        "        preço = 26\n",
        "      else:\n",
        "        if(categoria ==5):\n",
        "          preço = 31\n",
        "        else:\n",
        "          print(\"Você digitou um número fora do intervalo de 1 a 5\")\n",
        "          preço = 0\n",
        "#print(\"O preço do pruduto equivale a R$%2.6f\" % preço)\n",
        "print(f\"O preço do produto equivale a {(preço)}\")"
      ]
    }
  ]
}