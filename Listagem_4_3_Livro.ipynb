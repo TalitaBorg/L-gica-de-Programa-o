{
  "nbformat": 4,
  "nbformat_minor": 0,
  "metadata": {
    "colab": {
      "provenance": [],
      "authorship_tag": "ABX9TyP/DZB040G0hoWvp5oCZ1wD",
      "include_colab_link": true
    },
    "kernelspec": {
      "name": "python3",
      "display_name": "Python 3"
    },
    "language_info": {
      "name": "python"
    }
  },
  "cells": [
    {
      "cell_type": "markdown",
      "metadata": {
        "id": "view-in-github",
        "colab_type": "text"
      },
      "source": [
        "<a href=\"https://colab.research.google.com/github/TalitaBorg/Logica-de-Programacao/blob/main/Listagem_4_3_Livro.ipynb\" target=\"_parent\"><img src=\"https://colab.research.google.com/assets/colab-badge.svg\" alt=\"Open In Colab\"/></a>"
      ]
    },
    {
      "cell_type": "code",
      "execution_count": 6,
      "metadata": {
        "colab": {
          "base_uri": "https://localhost:8080/"
        },
        "id": "lUWGUzAsF9l7",
        "outputId": "d535b924-361f-4a36-852c-a115d9941da1"
      },
      "outputs": [
        {
          "output_type": "stream",
          "name": "stdout",
          "text": [
            "Digite a idade do seu carro: 2\n",
            "Seu carro é novo!\n"
          ]
        }
      ],
      "source": [
        "idade = int(input(\"Digite a idade do seu carro: \"))\n",
        "if(idade<=3):\n",
        "  print(\"Seu carro é novo!\")\n",
        "else:\n",
        "  print(\"Seu carro é velho!\")"
      ]
    }
  ]
}