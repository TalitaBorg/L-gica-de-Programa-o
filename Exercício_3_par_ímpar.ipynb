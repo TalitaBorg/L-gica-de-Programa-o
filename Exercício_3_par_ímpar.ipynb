{
  "nbformat": 4,
  "nbformat_minor": 0,
  "metadata": {
    "colab": {
      "provenance": [],
      "authorship_tag": "ABX9TyNHChfmM/ftwBizpEMIaEhA",
      "include_colab_link": true
    },
    "kernelspec": {
      "name": "python3",
      "display_name": "Python 3"
    },
    "language_info": {
      "name": "python"
    }
  },
  "cells": [
    {
      "cell_type": "markdown",
      "metadata": {
        "id": "view-in-github",
        "colab_type": "text"
      },
      "source": [
        "<a href=\"https://colab.research.google.com/github/TalitaBorg/Logica-de-Programacao/blob/main/Exerc%C3%ADcio_3_par_%C3%ADmpar.ipynb\" target=\"_parent\"><img src=\"https://colab.research.google.com/assets/colab-badge.svg\" alt=\"Open In Colab\"/></a>"
      ]
    },
    {
      "cell_type": "code",
      "execution_count": 3,
      "metadata": {
        "colab": {
          "base_uri": "https://localhost:8080/"
        },
        "id": "zT7an_nUE9Ws",
        "outputId": "bdaf9ac4-c290-4c18-fbda-07f199f2365e"
      },
      "outputs": [
        {
          "output_type": "stream",
          "name": "stdout",
          "text": [
            "Digite um número 9\n",
            "Número é: impar\n"
          ]
        }
      ],
      "source": [
        "numero = int(input(\"Digite um número \"))\n",
        "if(numero % 2 ==0):\n",
        "  numero = \"par\"\n",
        "else:\n",
        "  numero = \"impar\"\n",
        "print(f\"Número é: {(numero)}\")"
      ]
    }
  ]
}