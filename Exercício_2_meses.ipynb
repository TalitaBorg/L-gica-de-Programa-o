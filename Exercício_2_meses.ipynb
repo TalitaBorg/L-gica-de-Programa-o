{
  "nbformat": 4,
  "nbformat_minor": 0,
  "metadata": {
    "colab": {
      "provenance": [],
      "authorship_tag": "ABX9TyMFFHT1KWKsmLjhzYuRgbxJ",
      "include_colab_link": true
    },
    "kernelspec": {
      "name": "python3",
      "display_name": "Python 3"
    },
    "language_info": {
      "name": "python"
    }
  },
  "cells": [
    {
      "cell_type": "markdown",
      "metadata": {
        "id": "view-in-github",
        "colab_type": "text"
      },
      "source": [
        "<a href=\"https://colab.research.google.com/github/TalitaBorg/Logica-de-Programacao/blob/main/Exerc%C3%ADcio_2_meses.ipynb\" target=\"_parent\"><img src=\"https://colab.research.google.com/assets/colab-badge.svg\" alt=\"Open In Colab\"/></a>"
      ]
    },
    {
      "cell_type": "code",
      "execution_count": 2,
      "metadata": {
        "colab": {
          "base_uri": "https://localhost:8080/"
        },
        "id": "3XIvAvz9CKBR",
        "outputId": "bd34538c-23b1-4a6b-b63f-da89312fab71"
      },
      "outputs": [
        {
          "output_type": "stream",
          "name": "stdout",
          "text": [
            "Digite um número entre 1 e 12: 15\n",
            "Você digitou um número fora do intervalo de 1 a 12!\n",
            "O mês é: 0\n"
          ]
        }
      ],
      "source": [
        "numero = int(input(\"Digite um número entre 1 e 12: \"))\n",
        "if(numero ==1):\n",
        "  numero = \"Janeiro\"\n",
        "elif(numero ==2):\n",
        "  numero = \"Fevereiro\"\n",
        "elif(numero ==3):\n",
        "  numero = \"Março\"\n",
        "elif(numero ==4):\n",
        "  numero = \"Abril\"\n",
        "elif(numero ==5):\n",
        "  numero = \"Maio\"\n",
        "elif(numero ==6):\n",
        "  numero = \"Junho\"\n",
        "elif(numero ==7):\n",
        "  numero = \"Julho\"\n",
        "elif(numero ==8):\n",
        "  numero = \"Agosto\"\n",
        "elif(numero ==9):\n",
        "  numero = \"Setembro\"\n",
        "elif(numero ==10):\n",
        "  numero = \"Outubro\"\n",
        "elif(numero ==11):\n",
        "  numero = \"Novembro\"\n",
        "elif(numero ==12):\n",
        "  numero = \"Dezembro\"\n",
        "else:\n",
        "  print(\"Você digitou um número fora do intervalo de 1 a 12!\")\n",
        "  numero = 0\n",
        "print(f\"O mês é: {(numero)}\")"
      ]
    }
  ]
}