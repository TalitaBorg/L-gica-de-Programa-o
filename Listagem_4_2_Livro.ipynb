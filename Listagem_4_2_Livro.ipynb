{
  "nbformat": 4,
  "nbformat_minor": 0,
  "metadata": {
    "colab": {
      "provenance": [],
      "authorship_tag": "ABX9TyN0B4CSSYMl6eOV9GsdL4Kn",
      "include_colab_link": true
    },
    "kernelspec": {
      "name": "python3",
      "display_name": "Python 3"
    },
    "language_info": {
      "name": "python"
    }
  },
  "cells": [
    {
      "cell_type": "markdown",
      "metadata": {
        "id": "view-in-github",
        "colab_type": "text"
      },
      "source": [
        "<a href=\"https://colab.research.google.com/github/TalitaBorg/L-gica-de-Programa-o/blob/main/Listagem_4_2_Livro.ipynb\" target=\"_parent\"><img src=\"https://colab.research.google.com/assets/colab-badge.svg\" alt=\"Open In Colab\"/></a>"
      ]
    },
    {
      "cell_type": "code",
      "execution_count": 3,
      "metadata": {
        "colab": {
          "base_uri": "https://localhost:8080/"
        },
        "id": "AEX9bWq2BDZS",
        "outputId": "a023af2b-9bd8-4379-b135-ee33792150d1"
      },
      "outputs": [
        {
          "output_type": "stream",
          "name": "stdout",
          "text": [
            "Primeiro valor: 8\n",
            "Segundo valor: 2\n",
            "O primeiro valor 8 é maior!\n"
          ]
        }
      ],
      "source": [
        "a = int(input(\"Primeiro valor: \"))\n",
        "b = int(input(\"Segundo valor: \"))\n",
        "\n",
        "if (a>b):\n",
        "  print(f\"O primeiro valor {(a)} é maior!\")\n",
        "if(b>a):\n",
        "  print(f\"O segundo valor {(b)}é maior!\")"
      ]
    }
  ]
}